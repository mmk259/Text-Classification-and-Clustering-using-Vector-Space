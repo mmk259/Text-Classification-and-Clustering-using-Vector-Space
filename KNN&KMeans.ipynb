{
 "cells": [
  {
   "cell_type": "markdown",
   "id": "6cc0d936",
   "metadata": {},
   "source": [
    "Importing Libraries"
   ]
  },
  {
   "cell_type": "code",
   "execution_count": 1,
   "id": "ee64ab55",
   "metadata": {},
   "outputs": [],
   "source": [
    "import os\n",
    "import re\n",
    "import math\n",
    "import pickle\n",
    "import numpy as np\n",
    "import tkinter as tk\n",
    "from tkinter import ttk\n",
    "from tkinter import filedialog\n",
    "from tkinter import messagebox\n",
    "from sklearn.model_selection import train_test_split\n",
    "from sklearn.neighbors import KNeighborsClassifier\n",
    "from sklearn.cluster import KMeans\n",
    "from sklearn.decomposition import PCA\n",
    "from sklearn.metrics import silhouette_score\n",
    "from sklearn.metrics import accuracy_score, precision_score, recall_score, f1_score\n",
    "from sklearn.feature_selection import SelectKBest, chi2\n",
    "import matplotlib.pyplot as plt\n",
    "import warnings\n",
    "warnings.filterwarnings('ignore')\n"
   ]
  },
  {
   "cell_type": "markdown",
   "id": "e73ab6b4",
   "metadata": {},
   "source": [
    "Functions To process, build and load document vectors"
   ]
  },
  {
   "cell_type": "code",
   "execution_count": 2,
   "id": "fa87422f",
   "metadata": {},
   "outputs": [],
   "source": [
    "def read_documents(directory):\n",
    "    universal_set = set()\n",
    "    documents = {}\n",
    "    for file_name in os.listdir(directory):\n",
    "        if file_name.endswith('.txt'):\n",
    "            doc_id = os.path.splitext(file_name)[0]\n",
    "            with open(os.path.join(directory, file_name), 'r', encoding='ISO-8859-1') as file:\n",
    "                content = file.read()\n",
    "                documents[doc_id] = content\n",
    "                universal_set.add(doc_id)\n",
    "    return documents, universal_set"
   ]
  },
  {
   "cell_type": "code",
   "execution_count": 3,
   "id": "77c29b02",
   "metadata": {},
   "outputs": [],
   "source": [
    "def preprocess(content):\n",
    "    tokens = re.findall(r'\\b\\w+\\b', content.lower())\n",
    "    return tokens"
   ]
  },
  {
   "cell_type": "code",
   "execution_count": 4,
   "id": "5e5632fa",
   "metadata": {},
   "outputs": [],
   "source": [
    "def build_index_docs(documents):\n",
    "    index = {}\n",
    "    for doc_id, doc_content in documents.items():\n",
    "        terms = preprocess(doc_content)\n",
    "        for term in terms:\n",
    "            if term not in index:\n",
    "                index[term] = {}\n",
    "            if doc_id not in index[term]:\n",
    "                index[term][doc_id] = 0\n",
    "            index[term][doc_id] += 1\n",
    "    return index"
   ]
  },
  {
   "cell_type": "code",
   "execution_count": 5,
   "id": "6dbd990a",
   "metadata": {},
   "outputs": [],
   "source": [
    "def compute_idf(token, index, total_docs):\n",
    "    if token in index.keys():\n",
    "        df = len(index[token])\n",
    "        if df == 0:\n",
    "            return 0\n",
    "        idf = math.log(total_docs / df)\n",
    "        return idf\n",
    "    else:\n",
    "        return 0"
   ]
  },
  {
   "cell_type": "code",
   "execution_count": 6,
   "id": "c94672ef",
   "metadata": {},
   "outputs": [],
   "source": [
    "def build_document_vectors(documents, index, total_docs):\n",
    "    document_vectors = {}\n",
    "    for doc_id, doc_text in documents.items():\n",
    "        vector = {}\n",
    "        for token in index.keys():\n",
    "            if doc_id in index[token]:\n",
    "                tf = index[token][doc_id]\n",
    "            else:\n",
    "                tf = 0\n",
    "            idf = compute_idf(token, index, total_docs)\n",
    "            vector[token] = tf * idf\n",
    "        document_vectors[doc_id] = vector\n",
    "    return document_vectors"
   ]
  },
  {
   "cell_type": "code",
   "execution_count": 7,
   "id": "9e9e810f",
   "metadata": {},
   "outputs": [],
   "source": [
    "def load_indexes():\n",
    "    document_vectors_file = 'document_vectors.pkl'\n",
    "    universal_set_file = 'universal_set.pkl'\n",
    "    document_index_file = 'document_index.pkl'\n",
    "\n",
    "    if os.path.exists(document_vectors_file) and os.path.exists(universal_set_file):\n",
    "        with open(document_vectors_file, 'rb') as file:\n",
    "            document_vectors = pickle.load(file)\n",
    "\n",
    "        with open(document_index_file, 'rb') as file:\n",
    "            document_index = pickle.load(file)\n",
    "\n",
    "        with open(universal_set_file, 'rb') as file:\n",
    "            universal_set = pickle.load(file)\n",
    "\n",
    "        return document_vectors, document_index, universal_set\n",
    "    else:\n",
    "        universal_set = set()\n",
    "        files_directory = 'C:/Users/UBL-HO.DESKTOP-7ET3E40/Desktop/BAI-6A/IR/a/ResearchPapers'\n",
    "\n",
    "        documents, universal_set = read_documents(files_directory)\n",
    "\n",
    "        index = build_index_docs(documents)\n",
    "        docs_vectors = build_document_vectors(documents, index, len(universal_set))\n",
    "\n",
    "        save_indexes(docs_vectors, index, universal_set)\n",
    "\n",
    "        return docs_vectors, index, universal_set"
   ]
  },
  {
   "cell_type": "code",
   "execution_count": 8,
   "id": "2eeb7389",
   "metadata": {},
   "outputs": [],
   "source": [
    "def save_indexes(document_vectors, document_index, universal_set):\n",
    "    with open('document_vectors.pkl', 'wb') as file:\n",
    "        pickle.dump(document_vectors, file)\n",
    "\n",
    "    with open('document_index.pkl', 'wb') as file:\n",
    "        pickle.dump(document_index, file)\n",
    "\n",
    "    with open('universal_set.pkl', 'wb') as file:\n",
    "        pickle.dump(universal_set, file)"
   ]
  },
  {
   "cell_type": "markdown",
   "id": "77318bbe",
   "metadata": {},
   "source": [
    "TASK#1: Text Classification (KNN)"
   ]
  },
  {
   "cell_type": "code",
   "execution_count": 9,
   "id": "d550ed88",
   "metadata": {},
   "outputs": [],
   "source": [
    "def prepare_data_for_classification(document_vectors, y_labels):\n",
    "    X = np.array([list(document_vectors[doc].values()) for doc in sorted(document_vectors)])\n",
    "    y = np.zeros(len(document_vectors))\n",
    "    for label, docs in y_labels.items():\n",
    "        for doc in docs:\n",
    "            y[sorted(document_vectors).index(str(doc))] = list(y_labels.keys()).index(label)\n",
    "    return X, y"
   ]
  },
  {
   "cell_type": "code",
   "execution_count": 10,
   "id": "44ca113f",
   "metadata": {},
   "outputs": [],
   "source": [
    "def feature_selection(X, y, k=1000):\n",
    "    selector = SelectKBest(chi2, k=k)\n",
    "    X_selected = selector.fit_transform(X, y)\n",
    "    return X_selected"
   ]
  },
  {
   "cell_type": "code",
   "execution_count": 11,
   "id": "343e1805",
   "metadata": {},
   "outputs": [],
   "source": [
    "def find_optimal_k_knn(X_train, y_train, X_test, y_test):\n",
    "    accuracies = []\n",
    "    max_k = len(X_train) - 1  \n",
    "    k_values = range(1, max_k + 1)  \n",
    "\n",
    "    for k in k_values:\n",
    "        knn = KNeighborsClassifier(n_neighbors=k)\n",
    "        knn.fit(X_train, y_train)\n",
    "        y_pred = knn.predict(X_test)\n",
    "        acc = accuracy_score(y_test, y_pred)\n",
    "        accuracies.append(acc)\n",
    "\n",
    "    plt.figure(figsize=(10, 6))\n",
    "    plt.plot(k_values, accuracies, marker='o')\n",
    "    plt.xlabel('Number of Neighbors (k)')\n",
    "    plt.ylabel('Accuracy')\n",
    "    plt.title('KNN Accuracy for different k values')\n",
    "    plt.grid(True)\n",
    "    plt.show()\n",
    "\n",
    "    optimal_k = k_values[accuracies.index(max(accuracies))]\n",
    "    print(f\"Optimal number of neighbors (k): {optimal_k}\")\n",
    "    return optimal_k"
   ]
  },
  {
   "cell_type": "code",
   "execution_count": 12,
   "id": "cdf3307c",
   "metadata": {},
   "outputs": [],
   "source": [
    "def find_optimal_k_knn_NoGraph(X_train, y_train, X_test, y_test):\n",
    "    accuracies = []\n",
    "    max_k = len(X_train) - 1  \n",
    "    k_values = range(1, max_k + 1)  \n",
    "\n",
    "    for k in k_values:\n",
    "        knn = KNeighborsClassifier(n_neighbors=k)\n",
    "        knn.fit(X_train, y_train)\n",
    "        y_pred = knn.predict(X_test)\n",
    "        acc = accuracy_score(y_test, y_pred)\n",
    "        accuracies.append(acc)\n",
    "\n",
    "    optimal_k = k_values[accuracies.index(max(accuracies))]\n",
    "    return optimal_k"
   ]
  },
  {
   "cell_type": "code",
   "execution_count": 13,
   "id": "8c7ef669",
   "metadata": {},
   "outputs": [],
   "source": [
    "def evaluate_classification(y_test, y_pred):\n",
    "    accuracy = accuracy_score(y_test, y_pred)\n",
    "    precision = precision_score(y_test, y_pred, average='macro')\n",
    "    recall = recall_score(y_test, y_pred, average='macro')\n",
    "    f1 = f1_score(y_test, y_pred, average='macro')\n",
    "    return accuracy, precision, recall, f1"
   ]
  },
  {
   "cell_type": "code",
   "execution_count": 14,
   "id": "41ecb793",
   "metadata": {},
   "outputs": [],
   "source": [
    "def prepare_data_for_classification(document_vectors, y_labels):\n",
    "    X = np.array([list(document_vectors[doc].values()) for doc in sorted(document_vectors)])\n",
    "    y = np.zeros(len(document_vectors))\n",
    "    for label, docs in y_labels.items():\n",
    "        for doc in docs:\n",
    "            y[sorted(document_vectors).index(str(doc))] = list(y_labels.keys()).index(label)\n",
    "    return X, y\n"
   ]
  },
  {
   "cell_type": "code",
   "execution_count": 15,
   "id": "3185be2b",
   "metadata": {},
   "outputs": [],
   "source": [
    "def classify_document(document_path):\n",
    "    y_labels = {\n",
    "        'Explainable Artificial Intelligence': [1, 2, 3, 7],\n",
    "        'Heart Failure': [8, 9, 11],\n",
    "        'Time Series Forecasting': [12, 13, 14, 15, 16],\n",
    "        'Transformer Model': [17, 18, 21],\n",
    "        'Feature Selection': [22, 23, 24, 25, 26]\n",
    "    }\n",
    "    \n",
    "    with open(document_path, 'r', encoding='ISO-8859-1') as file:\n",
    "        content = file.read()\n",
    "    \n",
    "    tokens = preprocess(content)\n",
    "    \n",
    "    new_document_vector = {}\n",
    "    for token in document_index.keys():\n",
    "        if token in tokens:\n",
    "            tf = tokens.count(token)\n",
    "            idf = compute_idf(token, document_index, len(universal_set))\n",
    "            new_document_vector[token] = tf * idf\n",
    "        else:\n",
    "            new_document_vector[token] = 0\n",
    "    \n",
    "\n",
    "    X, y = prepare_data_for_classification(document_vectors, y_labels)\n",
    "    X_train, X_test, y_train, y_test = train_test_split(X, y, test_size=0.2, random_state=42)\n",
    "\n",
    "    X_train_selected = feature_selection(X_train, y_train)\n",
    "    X_test_selected = feature_selection(X_test, y_test)\n",
    "\n",
    "    optimal_k = find_optimal_k_knn_NoGraph(X_train_selected, y_train, X_test_selected, y_test)\n",
    "\n",
    "    X_train, y_train = prepare_data_for_classification(document_vectors, y_labels)\n",
    "    \n",
    "    X_new_doc = np.array([list(new_document_vector.values())])\n",
    "    \n",
    "    knn = KNeighborsClassifier(n_neighbors=optimal_k)\n",
    "    knn.fit(X_train, y_train)\n",
    "    predicted_class = knn.predict(X_new_doc)\n",
    "    \n",
    "    return predicted_class[0]"
   ]
  },
  {
   "cell_type": "markdown",
   "id": "d8642cdb",
   "metadata": {},
   "source": [
    "TASK#2: Text Clustering"
   ]
  },
  {
   "cell_type": "code",
   "execution_count": 16,
   "id": "26e1dd9b",
   "metadata": {},
   "outputs": [],
   "source": [
    "def prepare_data_for_clustering(document_vectors):\n",
    "    X = np.array([list(document_vectors[doc].values()) for doc in sorted(document_vectors)])\n",
    "    return X"
   ]
  },
  {
   "cell_type": "code",
   "execution_count": 17,
   "id": "298a3f8f",
   "metadata": {},
   "outputs": [],
   "source": [
    "def text_clustering_kmeans(X, optimal_k):\n",
    "    kmeans = KMeans(n_clusters=optimal_k, random_state=42)\n",
    "    clusters = kmeans.fit_predict(X)\n",
    "    return clusters"
   ]
  },
  {
   "cell_type": "code",
   "execution_count": 18,
   "id": "75270d0b",
   "metadata": {},
   "outputs": [],
   "source": [
    "def evaluate_clustering(X, clusters):\n",
    "    silhouette = silhouette_score(X, clusters)\n",
    "    return silhouette"
   ]
  },
  {
   "cell_type": "code",
   "execution_count": 19,
   "id": "935aa810",
   "metadata": {},
   "outputs": [],
   "source": [
    "def find_optimal_k_kmeans(X, max_k):\n",
    "    distortions = []\n",
    "    K = range(1, max_k + 1)\n",
    "    for k in K:\n",
    "        kmeanModel = KMeans(n_clusters=k, random_state=42)\n",
    "        kmeanModel.fit(X)\n",
    "        distortions.append(kmeanModel.inertia_)\n",
    "\n",
    "    plt.figure(figsize=(10, 6))\n",
    "    plt.plot(K, distortions, 'bx-')\n",
    "    plt.xlabel('k (number of clusters)')\n",
    "    plt.ylabel('Distortion (Inertia)')\n",
    "    plt.title('The Elbow Method showing the optimal k')\n",
    "    plt.grid(True)\n",
    "    plt.show()\n",
    "    \n",
    "    elbow_point = None\n",
    "    for i in range(1, len(distortions)-1):\n",
    "        if distortions[i-1] - distortions[i] > distortions[i] - distortions[i+1]:\n",
    "            elbow_point = i + 1\n",
    "            break\n",
    "\n",
    "    print(f\"Elbow point at: {elbow_point} clusters\")\n",
    "    return elbow_point"
   ]
  },
  {
   "cell_type": "code",
   "execution_count": 20,
   "id": "97212219",
   "metadata": {},
   "outputs": [],
   "source": [
    "def find_optimal_k_kmeans_NoGraph(X, max_k):\n",
    "    distortions = []\n",
    "    K = range(1, max_k + 1)\n",
    "    for k in K:\n",
    "        kmeanModel = KMeans(n_clusters=k, random_state=42)\n",
    "        kmeanModel.fit(X)\n",
    "        distortions.append(kmeanModel.inertia_)\n",
    "    \n",
    "    elbow_point = None\n",
    "    for i in range(1, len(distortions)-1):\n",
    "        if distortions[i-1] - distortions[i] > distortions[i] - distortions[i+1]:\n",
    "            elbow_point = i + 1\n",
    "            break\n",
    "\n",
    "    return elbow_point"
   ]
  },
  {
   "cell_type": "code",
   "execution_count": 27,
   "id": "6d84dc28",
   "metadata": {},
   "outputs": [],
   "source": [
    "def cluster_document(document_path): \n",
    "    document_vectors, document_index, universal_set = load_indexes()\n",
    "    \n",
    "    with open(document_path, 'r', encoding='ISO-8859-1') as file:\n",
    "        content = file.read()\n",
    "    \n",
    "    tokens = preprocess(content)\n",
    "    \n",
    "    new_document_vector = {}\n",
    "    for token in document_index.keys():\n",
    "        if token in tokens:\n",
    "            tf = tokens.count(token)\n",
    "            idf = compute_idf(token, document_index, len(universal_set))\n",
    "            new_document_vector[token] = tf * idf\n",
    "        else:\n",
    "            new_document_vector[token] = 0\n",
    "    \n",
    "    X = prepare_data_for_clustering(document_vectors)\n",
    "    optimal_k = find_optimal_k_kmeans_NoGraph(X, 10) \n",
    "    \n",
    "    X_new_doc = np.array([list(new_document_vector.values())])\n",
    "    \n",
    "    pca = PCA(n_components=2)\n",
    "    X_pca = pca.fit_transform(X)\n",
    "    new_doc_tfidf_pca = pca.transform(X_new_doc)\n",
    "\n",
    "    kmeans = KMeans(n_clusters=5, random_state=42)\n",
    "    kmeans.fit(X_pca)\n",
    "    predicted_cluster = kmeans.predict(new_doc_tfidf_pca)\n",
    "    \n",
    "    return predicted_cluster[0]"
   ]
  },
  {
   "cell_type": "markdown",
   "id": "968c6cf7",
   "metadata": {},
   "source": [
    "Main Execution"
   ]
  },
  {
   "cell_type": "code",
   "execution_count": 28,
   "id": "d7c45274",
   "metadata": {},
   "outputs": [],
   "source": [
    "def classification(document_vectors, document_index, universal_set):\n",
    "    y_labels = {\n",
    "        'Explainable Artificial Intelligence': [1, 2, 3, 7],\n",
    "        'Heart Failure': [8, 9, 11],\n",
    "        'Time Series Forecasting': [12, 13, 14, 15, 16],\n",
    "        'Transformer Model': [17, 18, 21],\n",
    "        'Feature Selection': [22, 23, 24, 25, 26]\n",
    "    }\n",
    "\n",
    "    X, y = prepare_data_for_classification(document_vectors, y_labels)\n",
    "    X_train, X_test, y_train, y_test = train_test_split(X, y, test_size=0.2, random_state=42)\n",
    "\n",
    "    X_train_selected = feature_selection(X_train, y_train)\n",
    "    X_test_selected = feature_selection(X_test, y_test)\n",
    "\n",
    "    optimal_k = find_optimal_k_knn(X_train_selected, y_train, X_test_selected, y_test)\n",
    "    knn_optimal = KNeighborsClassifier(n_neighbors=optimal_k)\n",
    "    knn_optimal.fit(X_train_selected, y_train)\n",
    "    y_pred_optimal = knn_optimal.predict(X_test_selected)\n",
    "\n",
    "    accuracy, precision, recall, f1 = evaluate_classification(y_test, y_pred_optimal)\n",
    "    print('Accuracy: ', accuracy)\n",
    "    print('Precision: ', precision)\n",
    "    print('Recall: ', recall)\n",
    "    print('f1 Score: ', f1)\n"
   ]
  },
  {
   "cell_type": "code",
   "execution_count": 33,
   "id": "cc836893",
   "metadata": {},
   "outputs": [],
   "source": [
    "def clustering(document_vectors, document_index, universal_set):\n",
    "    X = prepare_data_for_clustering(document_vectors)\n",
    "    optimal_k = find_optimal_k_kmeans(X, 10)\n",
    "    clusters = text_clustering_kmeans(X, 5)\n",
    "    silhouette_score_new = evaluate_clustering(X, clusters)\n",
    "    print(\"\\nText Clustering Results with Silhouette Score:\")\n",
    "    print(\"Silhouette Score:\", silhouette_score_new)\n",
    "\n",
    "    pca = PCA(n_components=2)\n",
    "    X_pca = pca.fit_transform(X)\n",
    "\n",
    "    # Plot the clusters\n",
    "    plt.figure(figsize=(8, 6))\n",
    "    scatter = plt.scatter(X_pca[:, 0], X_pca[:, 1], c=clusters, cmap='viridis')\n",
    "    plt.title('Clustering Results')\n",
    "    plt.xlabel('Principal Component 1')\n",
    "    plt.ylabel('Principal Component 2')\n",
    "    plt.colorbar(scatter, label='Cluster')\n",
    "    plt.show()"
   ]
  },
  {
   "cell_type": "code",
   "execution_count": 34,
   "id": "322d87bc",
   "metadata": {},
   "outputs": [],
   "source": [
    "def visualize_data():\n",
    "    selected_option = combo_box.get()\n",
    "    if selected_option == 'Classification':\n",
    "        classification(document_vectors, document_index, universal_set)\n",
    "    elif selected_option == 'Clustering':\n",
    "        clustering(document_vectors, document_index, universal_set)\n"
   ]
  },
  {
   "cell_type": "code",
   "execution_count": 35,
   "id": "c04c9fd4",
   "metadata": {},
   "outputs": [],
   "source": [
    "def predict_data():\n",
    "    selected_option = combo_box.get()\n",
    "    if selected_option == 'Classification':\n",
    "        document_path = filedialog.askopenfilename(title=\"Select Document File\", filetypes=[(\"Text files\", \"*.txt\")])\n",
    "        if document_path:\n",
    "            predicted_class = classify_document(document_path)\n",
    "            class_labels = ['Explainable Artificial Intelligence', 'Heart Failure', 'Time Series Forecasting', 'Transformer Model', 'Feature Selection']\n",
    "            predicted_class_str = class_labels[int(predicted_class)]\n",
    "            messagebox.showinfo(\"Prediction Results\", f\"Predicted Class: {predicted_class_str}\")\n",
    "        else:\n",
    "            messagebox.showerror(\"Error\", \"No document selected.\")\n",
    "    elif selected_option == 'Clustering':\n",
    "        document_path = filedialog.askopenfilename(title=\"Select Document File\", filetypes=[(\"Text files\", \"*.txt\")])\n",
    "        if document_path:\n",
    "            predicted_cluster = cluster_document(document_path)  \n",
    "            messagebox.showinfo(\"Prediction Results\", f\"Predicted Cluster: {predicted_cluster}\")\n",
    "        else:\n",
    "            messagebox.showerror(\"Error\", \"No document selected.\")"
   ]
  },
  {
   "cell_type": "code",
   "execution_count": 36,
   "id": "2ef4ec5e",
   "metadata": {},
   "outputs": [
    {
     "data": {
      "image/png": "[encoded data removed]",
      "text/plain": [
       "<Figure size 1000x600 with 1 Axes>"
      ]
     },
     "metadata": {},
     "output_type": "display_data"
    },
    {
     "name": "stdout",
     "output_type": "stream",
     "text": [
      "Elbow point at: 3 clusters\n",
      "\n",
      "Text Clustering Results with Silhouette Score:\n",
      "Silhouette Score: 0.12113525430198384\n"
     ]
    },
    {
     "data": {
      "image/png": "[encoded data removed]",
      "text/plain": [
       "<Figure size 800x600 with 2 Axes>"
      ]
     },
     "metadata": {},
     "output_type": "display_data"
    }
   ],
   "source": [
    "document_vectors, document_index, universal_set = load_indexes()\n",
    "\n",
    "root = tk.Tk()\n",
    "root.title('IR')\n",
    "\n",
    "options = ['Classification', 'Clustering']\n",
    "selected_option = tk.StringVar()\n",
    "combo_box_label = ttk.Label(root, text=\"Select Algorithm:\")\n",
    "combo_box_label.grid(row=0, column=0)\n",
    "combo_box = ttk.Combobox(root, values=options, textvariable=selected_option)\n",
    "combo_box.grid(row=0, column=1)\n",
    "\n",
    "visualize_button = ttk.Button(root, text='Visualize Model', command=visualize_data)\n",
    "visualize_button.grid(row=1, column=0, columnspan=2)\n",
    "\n",
    "visualize_button = ttk.Button(root, text='Predict', command=predict_data)\n",
    "visualize_button.grid(row=2, column=0, columnspan=3)\n",
    "\n",
    "root.mainloop()"
   ]
  },
  {
   "cell_type": "code",
   "execution_count": null,
   "id": "d497fc08",
   "metadata": {},
   "outputs": [],
   "source": []
  },
  {
   "cell_type": "code",
   "execution_count": null,
   "id": "2b4859c6",
   "metadata": {},
   "outputs": [],
   "source": []
  }
 ],
 "metadata": {
  "kernelspec": {
   "display_name": "Python 3 (ipykernel)",
   "language": "python",
   "name": "python3"
  },
  "language_info": {
   "codemirror_mode": {
    "name": "ipython",
    "version": 3
   },
   "file_extension": ".py",
   "mimetype": "text/x-python",
   "name": "python",
   "nbconvert_exporter": "python",
   "pygments_lexer": "ipython3",
   "version": "3.11.4"
  }
 },
 "nbformat": 4,
 "nbformat_minor": 5
}
